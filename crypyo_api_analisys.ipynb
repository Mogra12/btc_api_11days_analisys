{
 "cells": [
  {
   "cell_type": "code",
   "execution_count": null,
   "id": "dcf2ca28",
   "metadata": {},
   "outputs": [],
   "source": [
    "from requests import get\n",
    "import plotly.graph_objects as go\n",
    "from datetime import datetime"
   ]
  },
  {
   "cell_type": "code",
   "execution_count": null,
   "id": "0e0bd524",
   "metadata": {},
   "outputs": [],
   "source": [
    "class BTC:\n",
    "    url = 'https://min-api.cryptocompare.com/data/v2/histoday?fsym=BTC&tsym=USD&limit=10'\n",
    "    response = get(url)\n",
    "    data = response.json()\n",
    "\n",
    "    def __init__(self):\n",
    "        if 'Data' in self.data and 'Data' in self.data['Data']:\n",
    "            # Acessando os dados corretamente sem o fatiamento\n",
    "            self.high = [item['high'] for item in self.data['Data']['Data']]\n",
    "            self.low = [item['low'] for item in self.data['Data']['Data']]\n",
    "            self.open = [item['open'] for item in self.data['Data']['Data']]\n",
    "            self.close = [item['close'] for item in self.data['Data']['Data']]\n",
    "            self.date = [item['time'] for item in self.data['Data']['Data']]\n",
    "        else:\n",
    "            print(\"Dados não encontrados ou estrutura da resposta está diferente.\")\n",
    "            self.high = []\n",
    "            self.low = []\n",
    "            self.open = []\n",
    "            self.close = []\n",
    "            self.date = []\n",
    "\n",
    "    def get_high(self):\n",
    "        return self.high\n",
    "    \n",
    "    def get_low(self):\n",
    "        return self.low\n",
    "    \n",
    "    def get_open(self):\n",
    "        return self.open\n",
    "    \n",
    "    def get_close(self):\n",
    "        return self.close\n",
    "    \n",
    "    def get_date(self):\n",
    "        return self.date\n",
    "\n",
    "btc = BTC()"
   ]
  },
  {
   "cell_type": "code",
   "execution_count": 17,
   "id": "f82f3b7a",
   "metadata": {},
   "outputs": [
    {
     "name": "stderr",
     "output_type": "stream",
     "text": [
      "/tmp/ipykernel_11349/2157043226.py:1: DeprecationWarning: datetime.datetime.utcfromtimestamp() is deprecated and scheduled for removal in a future version. Use timezone-aware objects to represent datetimes in UTC: datetime.datetime.fromtimestamp(timestamp, datetime.UTC).\n",
      "  dates = [datetime.utcfromtimestamp(timestamp) for timestamp in btc.get_date()]\n"
     ]
    }
   ],
   "source": [
    "dates = [datetime.utcfromtimestamp(timestamp) for timestamp in btc.get_date()]"
   ]
  },
  {
   "cell_type": "code",
   "execution_count": 32,
   "id": "a1889f9b",
   "metadata": {},
   "outputs": [
    {
     "data": {
      "application/vnd.plotly.v1+json": {
       "config": {
        "plotlyServerURL": "https://plot.ly"
       },
       "data": [
        {
         "close": [
          65300.21,
          61422.3,
          60679.28,
          58135.89,
          54031.82,
          56057.67,
          55130.45,
          61708.53,
          60868.88,
          60940.82,
          58725,
          59360.89,
          60609.73,
          58698.05,
          57552.92,
          58893.67,
          59497.94,
          58439.22,
          59464.41,
          59027.55,
          61170.8,
          60387.29,
          64087.8,
          64180.77,
          64264.62,
          62850.27,
          59441.73,
          59043.5,
          59369.85,
          59129.05,
          58989.17,
          57313.44,
          59147.8,
          57481.84,
          57975.52,
          56167.4,
          53954.33,
          54167.82,
          54879.33,
          57056.31,
          57642.43,
          57354.27,
          58140.61,
          60548.12,
          60013.26,
          59139.21,
          58210.01,
          60321.59,
          61775.68,
          62963.41,
          63211.47,
          63363.17,
          63587.45,
          63341.97,
          64276.65,
          63144.83,
          65183.68,
          65790.28,
          65868.67,
          65611.98,
          63314.81,
          60790.06,
          60641.8,
          60746.35,
          62094.06,
          62059.19,
          62821.76,
          62209.84,
          62129.17,
          60585.22,
          60280.38,
          62517.42,
          63197.03,
          62854.48,
          66068.25,
          67064.69,
          67614.71,
          67408.87,
          68425.63,
          68370.04,
          69020.94,
          67358.14,
          67390.32,
          66612.97,
          68163.56,
          66577.77,
          67014.72,
          67945.14,
          69925.83,
          72723.67,
          72331.96,
          70207.54,
          69473.41,
          69354.01,
          68747.04,
          67811.95,
          69378.09,
          75643.57,
          75922.41,
          76562.31,
          76514.72
         ],
         "high": [
          65590.04,
          65548.28,
          62154.66,
          61075.03,
          58275.19,
          57077.92,
          57753.96,
          62717.23,
          61752.64,
          61478.08,
          61842.63,
          60708.39,
          61603.92,
          61788.76,
          59869.57,
          59851.62,
          59708.69,
          60280.79,
          59632.55,
          61442.89,
          61851.26,
          61426.96,
          64982.66,
          64523.11,
          65058.66,
          64504.12,
          63220.85,
          60232.58,
          61191.57,
          59926.33,
          59456.66,
          59085.64,
          59431.04,
          59825.44,
          58532.47,
          58329.93,
          57004.28,
          54852.05,
          55321.44,
          58005.33,
          58050.66,
          58002.86,
          58573.29,
          60666.01,
          60653.12,
          60409.32,
          59215.73,
          61356.68,
          61794.54,
          63881.87,
          64131.22,
          63548.08,
          64015.58,
          64749.32,
          64698.02,
          64823.35,
          65861.15,
          66547.69,
          66267.41,
          66081.97,
          65627.43,
          64112.99,
          62383.28,
          61478.71,
          62480.52,
          62377.77,
          62976.08,
          64458.38,
          63185.68,
          62513.84,
          61251.26,
          63418.56,
          63469.71,
          63276.36,
          66494.04,
          67938.85,
          68401.67,
          67931.28,
          69016.74,
          68681.33,
          69385.31,
          69501.44,
          67800.62,
          67436.29,
          68812.4,
          68745.57,
          67366.46,
          68254.55,
          70241.74,
          73612.24,
          72945.06,
          72675.24,
          71616.01,
          69884.38,
          69364.8,
          69453.56,
          70540.03,
          76482.2,
          76963.92,
          77289.29,
          76828.21
         ],
         "low": [
          62238.44,
          61165.12,
          59838.49,
          57174.97,
          49202.81,
          53987.77,
          54580.16,
          54751.57,
          59573.13,
          60270.33,
          58331.17,
          57677.54,
          58440.76,
          58461.76,
          56132.98,
          57106.84,
          58815.46,
          58433.69,
          57828.14,
          58588.82,
          58806.66,
          59756.43,
          60351.28,
          63591.53,
          63828.67,
          62816.08,
          58045.32,
          57868.47,
          58735.81,
          57725.72,
          58759.04,
          57217.94,
          57135.27,
          57411.84,
          55625.58,
          55651.61,
          52552.05,
          53742.58,
          53631.93,
          54591.28,
          56397.36,
          55554.25,
          57330.99,
          57637.58,
          59433.38,
          58697.69,
          57486.82,
          57624.63,
          59185.2,
          61582.28,
          62345.57,
          62767.25,
          62394.47,
          62584.5,
          62710.48,
          62938.97,
          62660.36,
          64839.11,
          65442.19,
          65440.3,
          62846.03,
          60156.13,
          59976.82,
          59846.16,
          60458.33,
          61689.84,
          61815.61,
          62129.23,
          61832.71,
          60252.65,
          58869.24,
          60039.18,
          62473.78,
          62036.49,
          62438.82,
          64791.36,
          66752.45,
          66643.91,
          67167.07,
          68009.42,
          68094.66,
          66811.42,
          66540.7,
          65171.54,
          66456.7,
          65510.53,
          66343.25,
          66852.5,
          67541,
          69725.05,
          71408.4,
          69585.02,
          68755.75,
          69006.88,
          67457.91,
          66793.64,
          67432.99,
          69295.92,
          74472.09,
          75656.7,
          76190.12
         ],
         "open": [
          64617.83,
          65300.21,
          61422.3,
          60679.28,
          58135.89,
          54031.82,
          56057.67,
          55130.45,
          61708.53,
          60868.88,
          60940.82,
          58725,
          59360.89,
          60609.73,
          58698.05,
          57552.92,
          58893.67,
          59497.94,
          58439.22,
          59464.41,
          59027.55,
          61170.8,
          60387.29,
          64087.8,
          64180.77,
          64264.62,
          62850.27,
          59441.73,
          59043.5,
          59369.85,
          59129.05,
          58989.17,
          57313.44,
          59147.8,
          57481.84,
          57975.52,
          56167.4,
          53954.33,
          54167.82,
          54879.33,
          57056.31,
          57642.43,
          57354.27,
          58140.61,
          60548.12,
          60013.26,
          59139.21,
          58210.01,
          60321.59,
          61775.68,
          62963.41,
          63211.47,
          63363.17,
          63587.45,
          63341.97,
          64276.65,
          63144.83,
          65183.68,
          65790.28,
          65868.67,
          65611.98,
          63314.81,
          60790.06,
          60641.8,
          60746.35,
          62094.06,
          62059.19,
          62821.76,
          62209.84,
          62129.17,
          60585.22,
          60280.38,
          62517.42,
          63197.03,
          62854.48,
          66068.25,
          67064.69,
          67614.71,
          67408.87,
          68425.63,
          68370.04,
          69020.94,
          67358.14,
          67390.32,
          66612.97,
          68163.56,
          66577.77,
          67014.72,
          67945.14,
          69925.83,
          72723.67,
          72331.96,
          70207.54,
          69473.41,
          69354.01,
          68747.04,
          67811.95,
          69378.09,
          75643.57,
          75922.41,
          76562.31
         ],
         "type": "candlestick",
         "x": [
          "2024-10-30T00:00:00",
          "2024-10-31T00:00:00",
          "2024-11-01T00:00:00",
          "2024-11-02T00:00:00",
          "2024-11-03T00:00:00",
          "2024-11-04T00:00:00",
          "2024-11-05T00:00:00",
          "2024-11-06T00:00:00",
          "2024-11-07T00:00:00",
          "2024-11-08T00:00:00",
          "2024-11-09T00:00:00"
         ]
        }
       ],
       "layout": {
        "annotations": [
         {
          "showarrow": false,
          "text": "Increase Period Begins",
          "x": "2024-11-05",
          "xanchor": "left",
          "y": 0.05,
          "yref": "paper"
         }
        ],
        "shapes": [
         {
          "line": {
           "color": "red",
           "width": 2
          },
          "x0": "2024-11-05",
          "x1": "2024-11-05",
          "xref": "x",
          "y0": 0,
          "y1": 1,
          "yref": "paper"
         }
        ],
        "template": {
         "data": {
          "bar": [
           {
            "error_x": {
             "color": "#2a3f5f"
            },
            "error_y": {
             "color": "#2a3f5f"
            },
            "marker": {
             "line": {
              "color": "#E5ECF6",
              "width": 0.5
             },
             "pattern": {
              "fillmode": "overlay",
              "size": 10,
              "solidity": 0.2
             }
            },
            "type": "bar"
           }
          ],
          "barpolar": [
           {
            "marker": {
             "line": {
              "color": "#E5ECF6",
              "width": 0.5
             },
             "pattern": {
              "fillmode": "overlay",
              "size": 10,
              "solidity": 0.2
             }
            },
            "type": "barpolar"
           }
          ],
          "carpet": [
           {
            "aaxis": {
             "endlinecolor": "#2a3f5f",
             "gridcolor": "white",
             "linecolor": "white",
             "minorgridcolor": "white",
             "startlinecolor": "#2a3f5f"
            },
            "baxis": {
             "endlinecolor": "#2a3f5f",
             "gridcolor": "white",
             "linecolor": "white",
             "minorgridcolor": "white",
             "startlinecolor": "#2a3f5f"
            },
            "type": "carpet"
           }
          ],
          "choropleth": [
           {
            "colorbar": {
             "outlinewidth": 0,
             "ticks": ""
            },
            "type": "choropleth"
           }
          ],
          "contour": [
           {
            "colorbar": {
             "outlinewidth": 0,
             "ticks": ""
            },
            "colorscale": [
             [
              0,
              "#0d0887"
             ],
             [
              0.1111111111111111,
              "#46039f"
             ],
             [
              0.2222222222222222,
              "#7201a8"
             ],
             [
              0.3333333333333333,
              "#9c179e"
             ],
             [
              0.4444444444444444,
              "#bd3786"
             ],
             [
              0.5555555555555556,
              "#d8576b"
             ],
             [
              0.6666666666666666,
              "#ed7953"
             ],
             [
              0.7777777777777778,
              "#fb9f3a"
             ],
             [
              0.8888888888888888,
              "#fdca26"
             ],
             [
              1,
              "#f0f921"
             ]
            ],
            "type": "contour"
           }
          ],
          "contourcarpet": [
           {
            "colorbar": {
             "outlinewidth": 0,
             "ticks": ""
            },
            "type": "contourcarpet"
           }
          ],
          "heatmap": [
           {
            "colorbar": {
             "outlinewidth": 0,
             "ticks": ""
            },
            "colorscale": [
             [
              0,
              "#0d0887"
             ],
             [
              0.1111111111111111,
              "#46039f"
             ],
             [
              0.2222222222222222,
              "#7201a8"
             ],
             [
              0.3333333333333333,
              "#9c179e"
             ],
             [
              0.4444444444444444,
              "#bd3786"
             ],
             [
              0.5555555555555556,
              "#d8576b"
             ],
             [
              0.6666666666666666,
              "#ed7953"
             ],
             [
              0.7777777777777778,
              "#fb9f3a"
             ],
             [
              0.8888888888888888,
              "#fdca26"
             ],
             [
              1,
              "#f0f921"
             ]
            ],
            "type": "heatmap"
           }
          ],
          "heatmapgl": [
           {
            "colorbar": {
             "outlinewidth": 0,
             "ticks": ""
            },
            "colorscale": [
             [
              0,
              "#0d0887"
             ],
             [
              0.1111111111111111,
              "#46039f"
             ],
             [
              0.2222222222222222,
              "#7201a8"
             ],
             [
              0.3333333333333333,
              "#9c179e"
             ],
             [
              0.4444444444444444,
              "#bd3786"
             ],
             [
              0.5555555555555556,
              "#d8576b"
             ],
             [
              0.6666666666666666,
              "#ed7953"
             ],
             [
              0.7777777777777778,
              "#fb9f3a"
             ],
             [
              0.8888888888888888,
              "#fdca26"
             ],
             [
              1,
              "#f0f921"
             ]
            ],
            "type": "heatmapgl"
           }
          ],
          "histogram": [
           {
            "marker": {
             "pattern": {
              "fillmode": "overlay",
              "size": 10,
              "solidity": 0.2
             }
            },
            "type": "histogram"
           }
          ],
          "histogram2d": [
           {
            "colorbar": {
             "outlinewidth": 0,
             "ticks": ""
            },
            "colorscale": [
             [
              0,
              "#0d0887"
             ],
             [
              0.1111111111111111,
              "#46039f"
             ],
             [
              0.2222222222222222,
              "#7201a8"
             ],
             [
              0.3333333333333333,
              "#9c179e"
             ],
             [
              0.4444444444444444,
              "#bd3786"
             ],
             [
              0.5555555555555556,
              "#d8576b"
             ],
             [
              0.6666666666666666,
              "#ed7953"
             ],
             [
              0.7777777777777778,
              "#fb9f3a"
             ],
             [
              0.8888888888888888,
              "#fdca26"
             ],
             [
              1,
              "#f0f921"
             ]
            ],
            "type": "histogram2d"
           }
          ],
          "histogram2dcontour": [
           {
            "colorbar": {
             "outlinewidth": 0,
             "ticks": ""
            },
            "colorscale": [
             [
              0,
              "#0d0887"
             ],
             [
              0.1111111111111111,
              "#46039f"
             ],
             [
              0.2222222222222222,
              "#7201a8"
             ],
             [
              0.3333333333333333,
              "#9c179e"
             ],
             [
              0.4444444444444444,
              "#bd3786"
             ],
             [
              0.5555555555555556,
              "#d8576b"
             ],
             [
              0.6666666666666666,
              "#ed7953"
             ],
             [
              0.7777777777777778,
              "#fb9f3a"
             ],
             [
              0.8888888888888888,
              "#fdca26"
             ],
             [
              1,
              "#f0f921"
             ]
            ],
            "type": "histogram2dcontour"
           }
          ],
          "mesh3d": [
           {
            "colorbar": {
             "outlinewidth": 0,
             "ticks": ""
            },
            "type": "mesh3d"
           }
          ],
          "parcoords": [
           {
            "line": {
             "colorbar": {
              "outlinewidth": 0,
              "ticks": ""
             }
            },
            "type": "parcoords"
           }
          ],
          "pie": [
           {
            "automargin": true,
            "type": "pie"
           }
          ],
          "scatter": [
           {
            "fillpattern": {
             "fillmode": "overlay",
             "size": 10,
             "solidity": 0.2
            },
            "type": "scatter"
           }
          ],
          "scatter3d": [
           {
            "line": {
             "colorbar": {
              "outlinewidth": 0,
              "ticks": ""
             }
            },
            "marker": {
             "colorbar": {
              "outlinewidth": 0,
              "ticks": ""
             }
            },
            "type": "scatter3d"
           }
          ],
          "scattercarpet": [
           {
            "marker": {
             "colorbar": {
              "outlinewidth": 0,
              "ticks": ""
             }
            },
            "type": "scattercarpet"
           }
          ],
          "scattergeo": [
           {
            "marker": {
             "colorbar": {
              "outlinewidth": 0,
              "ticks": ""
             }
            },
            "type": "scattergeo"
           }
          ],
          "scattergl": [
           {
            "marker": {
             "colorbar": {
              "outlinewidth": 0,
              "ticks": ""
             }
            },
            "type": "scattergl"
           }
          ],
          "scattermapbox": [
           {
            "marker": {
             "colorbar": {
              "outlinewidth": 0,
              "ticks": ""
             }
            },
            "type": "scattermapbox"
           }
          ],
          "scatterpolar": [
           {
            "marker": {
             "colorbar": {
              "outlinewidth": 0,
              "ticks": ""
             }
            },
            "type": "scatterpolar"
           }
          ],
          "scatterpolargl": [
           {
            "marker": {
             "colorbar": {
              "outlinewidth": 0,
              "ticks": ""
             }
            },
            "type": "scatterpolargl"
           }
          ],
          "scatterternary": [
           {
            "marker": {
             "colorbar": {
              "outlinewidth": 0,
              "ticks": ""
             }
            },
            "type": "scatterternary"
           }
          ],
          "surface": [
           {
            "colorbar": {
             "outlinewidth": 0,
             "ticks": ""
            },
            "colorscale": [
             [
              0,
              "#0d0887"
             ],
             [
              0.1111111111111111,
              "#46039f"
             ],
             [
              0.2222222222222222,
              "#7201a8"
             ],
             [
              0.3333333333333333,
              "#9c179e"
             ],
             [
              0.4444444444444444,
              "#bd3786"
             ],
             [
              0.5555555555555556,
              "#d8576b"
             ],
             [
              0.6666666666666666,
              "#ed7953"
             ],
             [
              0.7777777777777778,
              "#fb9f3a"
             ],
             [
              0.8888888888888888,
              "#fdca26"
             ],
             [
              1,
              "#f0f921"
             ]
            ],
            "type": "surface"
           }
          ],
          "table": [
           {
            "cells": {
             "fill": {
              "color": "#EBF0F8"
             },
             "line": {
              "color": "white"
             }
            },
            "header": {
             "fill": {
              "color": "#C8D4E3"
             },
             "line": {
              "color": "white"
             }
            },
            "type": "table"
           }
          ]
         },
         "layout": {
          "annotationdefaults": {
           "arrowcolor": "#2a3f5f",
           "arrowhead": 0,
           "arrowwidth": 1
          },
          "autotypenumbers": "strict",
          "coloraxis": {
           "colorbar": {
            "outlinewidth": 0,
            "ticks": ""
           }
          },
          "colorscale": {
           "diverging": [
            [
             0,
             "#8e0152"
            ],
            [
             0.1,
             "#c51b7d"
            ],
            [
             0.2,
             "#de77ae"
            ],
            [
             0.3,
             "#f1b6da"
            ],
            [
             0.4,
             "#fde0ef"
            ],
            [
             0.5,
             "#f7f7f7"
            ],
            [
             0.6,
             "#e6f5d0"
            ],
            [
             0.7,
             "#b8e186"
            ],
            [
             0.8,
             "#7fbc41"
            ],
            [
             0.9,
             "#4d9221"
            ],
            [
             1,
             "#276419"
            ]
           ],
           "sequential": [
            [
             0,
             "#0d0887"
            ],
            [
             0.1111111111111111,
             "#46039f"
            ],
            [
             0.2222222222222222,
             "#7201a8"
            ],
            [
             0.3333333333333333,
             "#9c179e"
            ],
            [
             0.4444444444444444,
             "#bd3786"
            ],
            [
             0.5555555555555556,
             "#d8576b"
            ],
            [
             0.6666666666666666,
             "#ed7953"
            ],
            [
             0.7777777777777778,
             "#fb9f3a"
            ],
            [
             0.8888888888888888,
             "#fdca26"
            ],
            [
             1,
             "#f0f921"
            ]
           ],
           "sequentialminus": [
            [
             0,
             "#0d0887"
            ],
            [
             0.1111111111111111,
             "#46039f"
            ],
            [
             0.2222222222222222,
             "#7201a8"
            ],
            [
             0.3333333333333333,
             "#9c179e"
            ],
            [
             0.4444444444444444,
             "#bd3786"
            ],
            [
             0.5555555555555556,
             "#d8576b"
            ],
            [
             0.6666666666666666,
             "#ed7953"
            ],
            [
             0.7777777777777778,
             "#fb9f3a"
            ],
            [
             0.8888888888888888,
             "#fdca26"
            ],
            [
             1,
             "#f0f921"
            ]
           ]
          },
          "colorway": [
           "#636efa",
           "#EF553B",
           "#00cc96",
           "#ab63fa",
           "#FFA15A",
           "#19d3f3",
           "#FF6692",
           "#B6E880",
           "#FF97FF",
           "#FECB52"
          ],
          "font": {
           "color": "#2a3f5f"
          },
          "geo": {
           "bgcolor": "white",
           "lakecolor": "white",
           "landcolor": "#E5ECF6",
           "showlakes": true,
           "showland": true,
           "subunitcolor": "white"
          },
          "hoverlabel": {
           "align": "left"
          },
          "hovermode": "closest",
          "mapbox": {
           "style": "light"
          },
          "paper_bgcolor": "white",
          "plot_bgcolor": "#E5ECF6",
          "polar": {
           "angularaxis": {
            "gridcolor": "white",
            "linecolor": "white",
            "ticks": ""
           },
           "bgcolor": "#E5ECF6",
           "radialaxis": {
            "gridcolor": "white",
            "linecolor": "white",
            "ticks": ""
           }
          },
          "scene": {
           "xaxis": {
            "backgroundcolor": "#E5ECF6",
            "gridcolor": "white",
            "gridwidth": 2,
            "linecolor": "white",
            "showbackground": true,
            "ticks": "",
            "zerolinecolor": "white"
           },
           "yaxis": {
            "backgroundcolor": "#E5ECF6",
            "gridcolor": "white",
            "gridwidth": 2,
            "linecolor": "white",
            "showbackground": true,
            "ticks": "",
            "zerolinecolor": "white"
           },
           "zaxis": {
            "backgroundcolor": "#E5ECF6",
            "gridcolor": "white",
            "gridwidth": 2,
            "linecolor": "white",
            "showbackground": true,
            "ticks": "",
            "zerolinecolor": "white"
           }
          },
          "shapedefaults": {
           "line": {
            "color": "#2a3f5f"
           }
          },
          "ternary": {
           "aaxis": {
            "gridcolor": "white",
            "linecolor": "white",
            "ticks": ""
           },
           "baxis": {
            "gridcolor": "white",
            "linecolor": "white",
            "ticks": ""
           },
           "bgcolor": "#E5ECF6",
           "caxis": {
            "gridcolor": "white",
            "linecolor": "white",
            "ticks": ""
           }
          },
          "title": {
           "x": 0.05
          },
          "xaxis": {
           "automargin": true,
           "gridcolor": "white",
           "linecolor": "white",
           "ticks": "",
           "title": {
            "standoff": 15
           },
           "zerolinecolor": "white",
           "zerolinewidth": 2
          },
          "yaxis": {
           "automargin": true,
           "gridcolor": "white",
           "linecolor": "white",
           "ticks": "",
           "title": {
            "standoff": 15
           },
           "zerolinecolor": "white",
           "zerolinewidth": 2
          }
         }
        },
        "title": {
         "text": "BTC 11 days"
        },
        "xaxis": {
         "title": {
          "text": "Days"
         }
        },
        "yaxis": {
         "title": {
          "text": "Price (USD)"
         }
        }
       }
      }
     },
     "metadata": {},
     "output_type": "display_data"
    }
   ],
   "source": [
    "fig = go.Figure(data=[go.Candlestick(x=dates,\n",
    "                                     open=btc.open, high=btc.high,\n",
    "                                     low=btc.low,close=btc.close)])\n",
    "fig.update_layout(title=\"BTC 11 days\",\n",
    "                  xaxis_title=\"Days\",\n",
    "                  yaxis_title=\"Price (USD)\",\n",
    "                  shapes=[dict(\n",
    "                      x0='2024-11-05', x1='2024-11-05',\n",
    "                      y0=0, y1=1,\n",
    "                      xref='x', yref='paper',\n",
    "                      line_width=2, line_color='red'\n",
    "                  )],\n",
    "                  annotations=[dict(\n",
    "                      x='2024-11-05', y=0.05, yref='paper',\n",
    "                      showarrow=False,\n",
    "                      xanchor='left',\n",
    "                      text=\"Increase Period Begins\"\n",
    "                  )]\n",
    "                  )\n",
    "fig.show()"
   ]
  }
 ],
 "metadata": {
  "kernelspec": {
   "display_name": "base",
   "language": "python",
   "name": "python3"
  },
  "language_info": {
   "codemirror_mode": {
    "name": "ipython",
    "version": 3
   },
   "file_extension": ".py",
   "mimetype": "text/x-python",
   "name": "python",
   "nbconvert_exporter": "python",
   "pygments_lexer": "ipython3",
   "version": "3.12.7"
  }
 },
 "nbformat": 4,
 "nbformat_minor": 5
}
